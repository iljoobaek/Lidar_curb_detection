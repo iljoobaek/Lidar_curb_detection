{
 "cells": [
  {
   "cell_type": "code",
   "execution_count": 37,
   "metadata": {},
   "outputs": [],
   "source": [
    "import numpy as np\n",
    "import os\n",
    "import pickle\n",
    "import math \n",
    "from scipy import interpolate\n",
    "from scipy.interpolate import interp1d\n",
    "from matplotlib import pyplot as plt\n",
    "import matplotlib"
   ]
  },
  {
   "cell_type": "code",
   "execution_count": 40,
   "metadata": {},
   "outputs": [],
   "source": [
    "data = np.load(\"state_update_chars.npy\", allow_pickle=True)\n",
    "data = data.item()"
   ]
  },
  {
   "cell_type": "code",
   "execution_count": 41,
   "metadata": {},
   "outputs": [
    {
     "data": {
      "text/plain": [
       "<matplotlib.collections.PathCollection at 0x7f180b8599d0>"
      ]
     },
     "execution_count": 41,
     "metadata": {},
     "output_type": "execute_result"
    },
    {
     "data": {
      "image/png": "[encoded data removed]",
      "text/plain": [
       "<Figure size 432x288 with 1 Axes>"
      ]
     },
     "metadata": {
      "needs_background": "light"
     },
     "output_type": "display_data"
    }
   ],
   "source": [
    "prev_pts = data['prev_pts']\n",
    "new_pts = data['new_pts']\n",
    "prev_pts = np.array(prev_pts).reshape(-1, 3) \n",
    "plt.scatter(*prev_pts[:, :2].T)\n",
    "plt.scatter(new_pts[0], new_pts[1], color=\"black\")"
   ]
  },
  {
   "cell_type": "code",
   "execution_count": 50,
   "metadata": {},
   "outputs": [
    {
     "name": "stdout",
     "output_type": "stream",
     "text": [
      "10\n",
      "10\n"
     ]
    }
   ],
   "source": [
    "xy = prev_pts[:, :2]\n",
    "minix = min(xy.T[0]); maxix = max(xy.T[0])\n",
    "miniy = min(xy.T[1]); maxiy = max(xy.T[1])\n",
    "x = np.arange(minix, maxix, (maxix-minix)/10)\n",
    "y = np.arange(miniy, maxiy, (maxiy-miniy)/10)\n",
    "print(len(x))\n",
    "print(len(y))\n",
    "f = interpolate.interp1d(x, y)\n",
    "# znew = f(xnew, ynew)\n",
    "# plt.plot(x, z[0, :], 'ro-', xnew, znew[0, :], 'b-')"
   ]
  },
  {
   "cell_type": "code",
   "execution_count": 53,
   "metadata": {},
   "outputs": [
    {
     "data": {
      "text/plain": [
       "<matplotlib.collections.PathCollection at 0x7f180b7f83d0>"
      ]
     },
     "execution_count": 53,
     "metadata": {},
     "output_type": "execute_result"
    },
    {
     "data": {
      "image/png": "[encoded data removed]",
      "text/plain": [
       "<Figure size 432x288 with 1 Axes>"
      ]
     },
     "metadata": {
      "needs_background": "light"
     },
     "output_type": "display_data"
    }
   ],
   "source": [
    "# xnew = np.arange(0, 9, 0.1)\n",
    "# ynew = f(xnew)\n",
    "plt.plot(x, y, 'o')\n",
    "plt.scatter(*prev_pts[:, :2].T, color=\"red\")"
   ]
  }
 ],
 "metadata": {
  "kernelspec": {
   "display_name": "Python 2",
   "language": "python",
   "name": "python2"
  },
  "language_info": {
   "codemirror_mode": {
    "name": "ipython",
    "version": 2
   },
   "file_extension": ".py",
   "mimetype": "text/x-python",
   "name": "python",
   "nbconvert_exporter": "python",
   "pygments_lexer": "ipython2",
   "version": "2.7.12"
  }
 },
 "nbformat": 4,
 "nbformat_minor": 2
}
