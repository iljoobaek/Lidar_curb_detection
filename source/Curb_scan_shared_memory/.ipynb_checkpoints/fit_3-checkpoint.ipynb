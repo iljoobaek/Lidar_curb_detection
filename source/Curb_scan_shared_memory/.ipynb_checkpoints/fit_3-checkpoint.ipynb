{
 "cells": [
  {
   "cell_type": "code",
   "execution_count": 95,
   "metadata": {},
   "outputs": [],
   "source": [
    "import numpy as np\n",
    "import os\n",
    "import pickle\n",
    "import math \n",
    "from scipy import interpolate\n",
    "from scipy.interpolate import interp1d\n",
    "from matplotlib import pyplot as plt\n",
    "import matplotlib"
   ]
  },
  {
   "cell_type": "code",
   "execution_count": 96,
   "metadata": {},
   "outputs": [
    {
     "data": {
      "text/plain": [
       "['prev_pts', 'new_pts', 'new_coeff', 'prev_coeff']"
      ]
     },
     "execution_count": 96,
     "metadata": {},
     "output_type": "execute_result"
    }
   ],
   "source": [
    "data = np.load(\"state_update_chars.npy\", allow_pickle=True)\n",
    "data = data.item()\n",
    "data.keys()"
   ]
  },
  {
   "cell_type": "code",
   "execution_count": 3,
   "metadata": {
    "scrolled": true
   },
   "outputs": [
    {
     "data": {
      "text/plain": [
       "<matplotlib.collections.PathCollection at 0x7f45e9a9c710>"
      ]
     },
     "execution_count": 3,
     "metadata": {},
     "output_type": "execute_result"
    },
    {
     "data": {
      "image/png": "[encoded data removed]",
      "text/plain": [
       "<Figure size 432x288 with 1 Axes>"
      ]
     },
     "metadata": {
      "needs_background": "light"
     },
     "output_type": "display_data"
    }
   ],
   "source": [
    "prev_pts = data['prev_pts']\n",
    "new_pts = data['new_pts']\n",
    "prev_pts = np.array(prev_pts).reshape(-1, 3) \n",
    "plt.scatter(*prev_pts[:, :2].T)\n",
    "plt.scatter(new_pts[0], new_pts[1], color=\"black\")"
   ]
  },
  {
   "cell_type": "code",
   "execution_count": 57,
   "metadata": {},
   "outputs": [
    {
     "data": {
      "text/plain": [
       "(0.35077613592147827, 11.351202011108398)"
      ]
     },
     "execution_count": 57,
     "metadata": {},
     "output_type": "execute_result"
    }
   ],
   "source": [
    "min(map(tuple,xy))"
   ]
  },
  {
   "cell_type": "code",
   "execution_count": 63,
   "metadata": {},
   "outputs": [
    {
     "name": "stdout",
     "output_type": "stream",
     "text": [
      "10\n",
      "10\n"
     ]
    }
   ],
   "source": [
    "xy = prev_pts[:, :2]\n",
    "\n",
    "min_point = min(map(tuple,xy))\n",
    "max_point = max(map(tuple,xy))\n",
    "minix = min_point[0]; maxix = max_point[0]\n",
    "miniy = min_point[1]; maxiy = max_point[1]\n",
    "\n",
    "x = np.arange(minix, maxix, (maxix-minix)/10)\n",
    "y = np.arange(miniy, maxiy, (maxiy-miniy)/10)\n",
    "print(len(x))\n",
    "print(len(y))\n",
    "# f = interpolate.interp1d(x, y)\n",
    "# znew = f(xnew, ynew)\n",
    "# plt.plot(x, z[0, :], 'ro-', xnew, znew[0, :], 'b-')"
   ]
  },
  {
   "cell_type": "code",
   "execution_count": 92,
   "metadata": {},
   "outputs": [
    {
     "name": "stdout",
     "output_type": "stream",
     "text": [
      "[2.1243531703948975, -0.1736695021390915, 0.002903462154790759, -0.00010222328273812309]\n"
     ]
    },
    {
     "data": {
      "text/plain": [
       "array([ 4.04385371e-17, -1.03076038e-15, -1.56379511e-01,  2.12587155e+00])"
      ]
     },
     "execution_count": 92,
     "metadata": {},
     "output_type": "execute_result"
    }
   ],
   "source": [
    "print(data[\"prev_coeff\"])\n",
    "p_2 = np.polyfit(y, x, 3)\n",
    "p_2"
   ]
  },
  {
   "cell_type": "code",
   "execution_count": 93,
   "metadata": {},
   "outputs": [],
   "source": [
    "p1 = np.poly1d(data[\"prev_coeff\"])\n",
    "p2 = np.poly1d(p_2)\n",
    "p3 = np.poly1d(data[\"new_coeff\"])"
   ]
  },
  {
   "cell_type": "code",
   "execution_count": 94,
   "metadata": {},
   "outputs": [
    {
     "name": "stdout",
     "output_type": "stream",
     "text": [
      "       3          2\n",
      "2.124 x - 0.1737 x + 0.002903 x - 0.0001022\n",
      "            3             2\n",
      "-2.336e-05 x + 0.0001769 x + 2.818 x + 0.8824\n",
      "           3             2\n",
      "4.044e-17 x - 1.031e-15 x - 0.1564 x + 2.126\n"
     ]
    }
   ],
   "source": [
    "print(p1)\n",
    "print(p3)\n",
    "print(p2) "
   ]
  },
  {
   "cell_type": "code",
   "execution_count": 72,
   "metadata": {},
   "outputs": [],
   "source": [
    "def cubic(k, a, b, c, d):\n",
    "    return d * pow(k,3) + c * pow(k,2) + b * pow(k,1) + a"
   ]
  },
  {
   "cell_type": "code",
   "execution_count": 84,
   "metadata": {},
   "outputs": [],
   "source": [
    "x = np.arange(minix, maxix, (maxix-minix)/10)\n",
    "y = np.arange(miniy, maxiy, (maxiy-miniy)/10)\n",
    "p1_points  = cubic(x, *p1)\n",
    "p1_x, p1_y = y, p1_points\n",
    "# p2_points  = cubic(x, *p2)\n",
    "# p3_points  = cubic(x, *p3)"
   ]
  },
  {
   "cell_type": "code",
   "execution_count": 78,
   "metadata": {},
   "outputs": [
    {
     "data": {
      "text/plain": [
       "array([2.06378689, 2.04538167, 2.02704018, 2.00876168, 1.99054539,\n",
       "       1.97239057, 1.95429644, 1.93626225, 1.91828725, 1.90037067])"
      ]
     },
     "execution_count": 78,
     "metadata": {},
     "output_type": "execute_result"
    }
   ],
   "source": [
    "p1_points"
   ]
  },
  {
   "cell_type": "code",
   "execution_count": 89,
   "metadata": {},
   "outputs": [
    {
     "data": {
      "text/plain": [
       "<matplotlib.collections.PathCollection at 0x7f45e89b89d0>"
      ]
     },
     "execution_count": 89,
     "metadata": {},
     "output_type": "execute_result"
    },
    {
     "data": {
      "image/png": "[encoded data removed]",
      "text/plain": [
       "<Figure size 432x288 with 1 Axes>"
      ]
     },
     "metadata": {
      "needs_background": "light"
     },
     "output_type": "display_data"
    }
   ],
   "source": [
    "# plt.scatter(p1_x,p1_y, color=\"blue\")\n",
    "plt.scatter(x, p2_points, color=\"green\")\n",
    "# plt.scatter(x, p3_points, color=\"cyan\")\n",
    "# plt.plot(x, y, 'o',  color=\"black\")\n",
    "\n",
    "plt.scatter(*prev_pts[:, :2].T, color=\"red\")\n",
    "plt.scatter(min(map(tuple,xy))[0], min(map(tuple,xy))[1], color=\"black\")\n",
    "plt.scatter(max(map(tuple,xy))[0], max(map(tuple,xy))[1], color=\"black\")"
   ]
  },
  {
   "cell_type": "code",
   "execution_count": 53,
   "metadata": {},
   "outputs": [
    {
     "data": {
      "text/plain": [
       "<matplotlib.collections.PathCollection at 0x7f180b7f83d0>"
      ]
     },
     "execution_count": 53,
     "metadata": {},
     "output_type": "execute_result"
    },
    {
     "data": {
      "image/png": "[encoded data removed]",
      "text/plain": [
       "<Figure size 432x288 with 1 Axes>"
      ]
     },
     "metadata": {
      "needs_background": "light"
     },
     "output_type": "display_data"
    }
   ],
   "source": [
    "# xnew = np.arange(0, 9, 0.1)\n",
    "# ynew = f(xnew)\n",
    "plt.plot(x, y, 'o')\n",
    "plt.scatter(*prev_pts[:, :2].T, color=\"red\")\n"
   ]
  }
 ],
 "metadata": {
  "kernelspec": {
   "display_name": "Python 2",
   "language": "python",
   "name": "python2"
  },
  "language_info": {
   "codemirror_mode": {
    "name": "ipython",
    "version": 2
   },
   "file_extension": ".py",
   "mimetype": "text/x-python",
   "name": "python",
   "nbconvert_exporter": "python",
   "pygments_lexer": "ipython2",
   "version": "2.7.12"
  }
 },
 "nbformat": 4,
 "nbformat_minor": 2
}
